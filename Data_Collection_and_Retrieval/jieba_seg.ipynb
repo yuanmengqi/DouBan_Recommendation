{
 "cells": [
  {
   "cell_type": "code",
   "execution_count": null,
   "metadata": {},
   "outputs": [],
   "source": [
    "import jieba\n",
    "import pandas as pd\n",
    "cnt=7"
   ]
  },
  {
   "cell_type": "code",
   "execution_count": null,
   "metadata": {},
   "outputs": [],
   "source": [
    "def is_chinese(uchar):\n",
    "    \"\"\"判断一个unicode是否是汉字\"\"\"\n",
    "    if uchar >= u'\\u4e00' and uchar <= u'\\u9fa5':\n",
    "        return True\n",
    "    else:\n",
    "        return False"
   ]
  },
  {
   "cell_type": "code",
   "execution_count": null,
   "metadata": {},
   "outputs": [],
   "source": [
    "def is_number(uchar):\n",
    "    \"\"\"判断一个unicode是否是数字\"\"\"\n",
    "    if uchar >= u'\\u0030' and uchar <= u'\\u0039':\n",
    "        return True\n",
    "    else:\n",
    "        return False"
   ]
  },
  {
   "cell_type": "code",
   "execution_count": null,
   "metadata": {},
   "outputs": [],
   "source": [
    "def is_alphabet(uchar):\n",
    "    \"\"\"判断一个unicode是否是英文字母\"\"\"\n",
    "    if (uchar >= u'\\u0041' and uchar <= u'\\u005a') or (uchar >= u'\\u0061' and uchar <= u'\\u007a'):\n",
    "        return True\n",
    "    else:\n",
    "        return False"
   ]
  },
  {
   "cell_type": "code",
   "execution_count": null,
   "metadata": {},
   "outputs": [],
   "source": [
    "def format_str(content):\n",
    "    #保留中文，数字和字母字符\n",
    "    content_str = ''\n",
    "    for i in content:\n",
    "        if is_chinese(i)or is_number(i) or is_alphabet(i):\n",
    "            content_str = content_str+i\n",
    "    return content_str"
   ]
  },
  {
   "cell_type": "code",
   "execution_count": null,
   "metadata": {},
   "outputs": [],
   "source": [
    "def symbol_rm(list):\n",
    "    str = ' '.join(list)\n",
    "    str = format_str(str)\n",
    "    return str\n",
    "    "
   ]
  },
  {
   "cell_type": "code",
   "execution_count": null,
   "metadata": {},
   "outputs": [],
   "source": [
    "#读取movie/MovieDouban_0.csv文件第一列\n",
    "df = pd.read_csv('./movie/MovieDouban_p0.csv',encoding='utf-8',usecols=[4, 12, 13, 20, 21,7,9],header=0)\n",
    "\n",
    "movie = df.values.tolist()\n",
    "lenth=len(movie)\n",
    "print(lenth)\n",
    "for i in range(0,lenth):\n",
    "    for j in range(0,cnt):\n",
    "        movie[i][j] = symbol_rm(movie[i][j])\n",
    "        movie[i][j] = movie[i][j]=' '.join(jieba.cut(movie[i][j]))\n",
    "        movie[i][j] = movie[i][j].split(' ')\n",
    "        print(movie[i][j])\n",
    "#print(type(movie[0][0]))\n",
    "print(movie)"
   ]
  },
  {
   "cell_type": "code",
   "execution_count": null,
   "metadata": {},
   "outputs": [],
   "source": [
    "#去除停用词\n",
    "with open ('./stopwords-master/hit_stopwords.txt','r',encoding='utf-8') as f:\n",
    "    stopwords = f.read().split('\\n')\n",
    "\n",
    "#删去movie中的停用词\n",
    "\n",
    "for i in range(0,lenth):\n",
    "    for j in range(0,cnt):\n",
    "        for word in movie[i][j]:     #for循环遍历分词后的每个词语\n",
    "            #若字符在停用表中\n",
    "            if word in stopwords:\n",
    "                movie[i][j].remove(word)\n",
    "print(movie)"
   ]
  },
  {
   "cell_type": "code",
   "execution_count": null,
   "metadata": {},
   "outputs": [],
   "source": [
    "#近义词合并\n",
    "#构建近义词表\n",
    "syn_path='./chinese_dictionary-master/dict_synonym.txt'\n",
    "synwords = []\n",
    "with open(syn_path,'r',encoding='utf-8') as f:\n",
    "    for line in f.readlines():\n",
    "        split = line.strip().split(' ')\n",
    "        number = split[0]\n",
    "        templist = split[1:]\n",
    "        if number[-1]=='=':\n",
    "            synwords.append(templist)"
   ]
  },
  {
   "cell_type": "code",
   "execution_count": null,
   "metadata": {},
   "outputs": [],
   "source": [
    "def findsyn(word):\n",
    "    if len(word) == 1:\n",
    "        return -1\n",
    "    for line in synwords:\n",
    "        if word in line:\n",
    "            return line[0]#都替换为同义词列表的第一个词\n",
    "    return -1"
   ]
  }
 ],
 "metadata": {
  "kernelspec": {
   "display_name": "Python 3",
   "language": "python",
   "name": "python3"
  },
  "language_info": {
   "codemirror_mode": {
    "name": "ipython",
    "version": 3
   },
   "file_extension": ".py",
   "mimetype": "text/x-python",
   "name": "python",
   "nbconvert_exporter": "python",
   "pygments_lexer": "ipython3",
   "version": "3.8.10"
  }
 },
 "nbformat": 4,
 "nbformat_minor": 2
}
