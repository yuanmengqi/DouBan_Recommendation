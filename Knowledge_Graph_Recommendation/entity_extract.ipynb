{
 "cells": [
  {
   "cell_type": "code",
   "execution_count": 2,
   "metadata": {},
   "outputs": [],
   "source": [
    "import gzip"
   ]
  },
  {
   "cell_type": "code",
   "execution_count": 32,
   "metadata": {},
   "outputs": [
    {
     "name": "stdout",
     "output_type": "stream",
     "text": [
      "['<http://rdf.freebase.com/ns/award.award_winner>', '<http://rdf.freebase.com/ns/type.type.instance>', '<http://rdf.freebase.com/ns/m.04n2x3p>']\n",
      "['<http://rdf.freebase.com/ns/award.award_winner>', '<http://rdf.freebase.com/ns/type.type.instance>', '<http://rdf.freebase.com/ns/m.058y23j>']\n",
      "['<http://rdf.freebase.com/ns/award.award_winner>', '<http://rdf.freebase.com/ns/type.type.instance>', '<http://rdf.freebase.com/ns/m.07gb1q>']\n",
      "['<http://rdf.freebase.com/ns/award.award_winner>', '<http://rdf.freebase.com/ns/type.type.instance>', '<http://rdf.freebase.com/ns/g.125_c52px>']\n",
      "['<http://rdf.freebase.com/ns/award.award_winner>', '<http://rdf.freebase.com/ns/type.type.instance>', '<http://rdf.freebase.com/ns/m.0d91lf>']\n",
      "['<http://rdf.freebase.com/ns/award.award_winner>', '<http://rdf.freebase.com/ns/type.type.instance>', '<http://rdf.freebase.com/ns/m.04hk1c>']\n",
      "['<http://rdf.freebase.com/ns/award.award_winner>', '<http://rdf.freebase.com/ns/type.type.instance>', '<http://rdf.freebase.com/ns/m.0c1p3_k>']\n",
      "['<http://rdf.freebase.com/ns/award.award_winner>', '<http://rdf.freebase.com/ns/type.type.instance>', '<http://rdf.freebase.com/ns/m.055657v>']\n",
      "['<http://rdf.freebase.com/ns/award.award_winner>', '<http://rdf.freebase.com/ns/type.type.instance>', '<http://rdf.freebase.com/ns/m.05c1s8p>']\n",
      "['<http://rdf.freebase.com/ns/award.award_winner>', '<http://rdf.freebase.com/ns/type.type.instance>', '<http://rdf.freebase.com/ns/m.02q4mt>']\n",
      "['<http://rdf.freebase.com/ns/award.award_winner>', '<http://rdf.freebase.com/ns/type.type.instance>', '<http://rdf.freebase.com/ns/m.014dm6>']\n",
      "['<http://rdf.freebase.com/ns/award.award_winner>', '<http://rdf.freebase.com/ns/type.type.instance>', '<http://rdf.freebase.com/ns/m.0k2wjd>']\n",
      "['<http://rdf.freebase.com/ns/award.award_winner>', '<http://rdf.freebase.com/ns/type.type.instance>', '<http://rdf.freebase.com/ns/m.0bnpf03>']\n",
      "['<http://rdf.freebase.com/ns/award.award_winner>', '<http://rdf.freebase.com/ns/type.type.instance>', '<http://rdf.freebase.com/ns/m.0fx431>']\n",
      "['<http://rdf.freebase.com/ns/award.award_winner>', '<http://rdf.freebase.com/ns/type.type.instance>', '<http://rdf.freebase.com/ns/m.04tlkmq>']\n",
      "['<http://rdf.freebase.com/ns/award.award_winner>', '<http://rdf.freebase.com/ns/type.type.instance>', '<http://rdf.freebase.com/ns/m.048bkq>']\n",
      "['<http://rdf.freebase.com/ns/award.award_winner>', '<http://rdf.freebase.com/ns/type.type.instance>', '<http://rdf.freebase.com/ns/m.0h0yt>']\n",
      "['<http://rdf.freebase.com/ns/award.award_winner>', '<http://rdf.freebase.com/ns/type.type.instance>', '<http://rdf.freebase.com/ns/m.05bm37f>']\n",
      "['<http://rdf.freebase.com/ns/award.award_winner>', '<http://rdf.freebase.com/ns/type.type.instance>', '<http://rdf.freebase.com/ns/m.0f131v6>']\n",
      "['<http://rdf.freebase.com/ns/award.award_winner>', '<http://rdf.freebase.com/ns/type.type.instance>', '<http://rdf.freebase.com/ns/m.0p_47>']\n"
     ]
    }
   ],
   "source": [
    "count = 0\n",
    "with gzip.open('freebase_douban.gz', 'rb') as f:\n",
    "    for line in f:\n",
    "        line = line.strip()\n",
    "        triplet = line.decode().split('\\t')[:3]\n",
    "        print(triplet)\n",
    "        count += 1\n",
    "        if count == 20:\n",
    "            break"
   ]
  },
  {
   "cell_type": "code",
   "execution_count": 9,
   "metadata": {},
   "outputs": [
    {
     "name": "stdout",
     "output_type": "stream",
     "text": [
      "{'1291544': '<http://rdf.freebase.com/ns/m.03177r>', '1291545': '<http://rdf.freebase.com/ns/m.027pfg>', '1291546': '<http://rdf.freebase.com/ns/m.01d1_s>', '1291550': '<http://rdf.freebase.com/ns/m.053xlz>', '1291552': '<http://rdf.freebase.com/ns/m.017jd9>', '1291554': '<http://rdf.freebase.com/ns/m.01sxdy>', '1291555': '<http://rdf.freebase.com/ns/m.01f8f7>', '1291557': '<http://rdf.freebase.com/ns/m.01f85k>', '1291558': '<http://rdf.freebase.com/ns/m.04j31dn>', '1291559': '<http://rdf.freebase.com/ns/m.05_lhx>', '1291561': '<http://rdf.freebase.com/ns/m.0j6b5>', '1291562': '<http://rdf.freebase.com/ns/m.01m13b>', '1291565': '<http://rdf.freebase.com/ns/m.02dglg>', '1291571': '<http://rdf.freebase.com/ns/m.017gl1>', '1291573': '<http://rdf.freebase.com/ns/m.02c7k4>', '1291574': '<http://rdf.freebase.com/ns/m.01xdxy>', '1291575': '<http://rdf.freebase.com/ns/m.0dyb1>', '1291577': '<http://rdf.freebase.com/ns/m.02qm_f>', '1291578': '<http://rdf.freebase.com/ns/m.06w839_>', '1291579': '<http://rdf.freebase.com/ns/m.01c22t>', '1291580': '<http://rdf.freebase.com/ns/m.01rxyb>', '1291581': '<http://rdf.freebase.com/ns/m.0dr3sl>', '1291582': '<http://rdf.freebase.com/ns/m.02lk60>', '1291583': '<http://rdf.freebase.com/ns/m.012x63>', '1291584': '<http://rdf.freebase.com/ns/m.0gyv0b4>', '1291585': '<http://rdf.freebase.com/ns/m.0n05v>', '1291586': '<http://rdf.freebase.com/ns/m.01jrbb>', '1291588': '<http://rdf.freebase.com/ns/m.02zcrq>', '1291818': '<http://rdf.freebase.com/ns/m.03lb7_>', '1291822': '<http://rdf.freebase.com/ns/m.046488>', '1291824': '<http://rdf.freebase.com/ns/m.0qm8b>', '1291832': '<http://rdf.freebase.com/ns/m.0f4_l>', '1291833': '<http://rdf.freebase.com/ns/m.04b2qn>', '1291835': '<http://rdf.freebase.com/ns/m.0209xj>', '1291836': '<http://rdf.freebase.com/ns/m.0fgpvf>', '1291838': '<http://rdf.freebase.com/ns/m.016ztl>', '1291840': '<http://rdf.freebase.com/ns/m.0mcl0>', '1291841': '<http://rdf.freebase.com/ns/m.07g1sm>', '1291842': '<http://rdf.freebase.com/ns/m.082zg>', '1291843': '<http://rdf.freebase.com/ns/m.07cz2>', '1291847': '<http://rdf.freebase.com/ns/m.0fc3yx>', '1291850': '<http://rdf.freebase.com/ns/m.07nr0s>', '1291853': '<http://rdf.freebase.com/ns/m.0pv3x>', '1291856': '<http://rdf.freebase.com/ns/m.02wtp6>', '1291858': '<http://rdf.freebase.com/ns/m.08gd4b>', '1291859': '<http://rdf.freebase.com/ns/m.0kvgnq>', '1291868': '<http://rdf.freebase.com/ns/m.03c1_jf>', '1291869': '<http://rdf.freebase.com/ns/m.02fqxm>', '1291870': '<http://rdf.freebase.com/ns/m.0yx_w>', '1291877': '<http://rdf.freebase.com/ns/m.036p2_>', '1291879': '<http://rdf.freebase.com/ns/m.019npw>', '1291937': '<http://rdf.freebase.com/ns/m.0gpx6>', '1291990': '<http://rdf.freebase.com/ns/m.03dbkp>', '1291992': '<http://rdf.freebase.com/ns/m.026390q>', '1291999': '<http://rdf.freebase.com/ns/m.01f8gz>', '1292000': '<http://rdf.freebase.com/ns/m.03yvf2>', '1292047': '<http://rdf.freebase.com/ns/m.014bjk>', '1292052': '<http://rdf.freebase.com/ns/m.07jnt>', '1292055': '<http://rdf.freebase.com/ns/m.023z7v>', '1292056': '<http://rdf.freebase.com/ns/m.02qxnnh>', '1292062': '<http://rdf.freebase.com/ns/m.0c0zq>', '1292064': '<http://rdf.freebase.com/ns/m.01hv3t>', '1292207': '<http://rdf.freebase.com/ns/m.026qgmr>', '1292212': '<http://rdf.freebase.com/ns/m.014_x2>', '1292214': '<http://rdf.freebase.com/ns/m.016fyc>', '1292217': '<http://rdf.freebase.com/ns/m.0571m>', '1292218': '<http://rdf.freebase.com/ns/m.04jvy0>', '1292219': '<http://rdf.freebase.com/ns/m.0b36tw>', '1292220': '<http://rdf.freebase.com/ns/m.026pdy>', '1292222': '<http://rdf.freebase.com/ns/m.07cw4>', '1292223': '<http://rdf.freebase.com/ns/m.01dc0c>', '1292225': '<http://rdf.freebase.com/ns/m.04fjzv>', '1292226': '<http://rdf.freebase.com/ns/m.08ct6>', '1292229': '<http://rdf.freebase.com/ns/m.059rc>', '1292233': '<http://rdf.freebase.com/ns/m.05ldxl>', '1292260': '<http://rdf.freebase.com/ns/m.0jzw>', '1292262': '<http://rdf.freebase.com/ns/m.028_yv>', '1292268': '<http://rdf.freebase.com/ns/m.0h6r5>', '1292272': '<http://rdf.freebase.com/ns/m.01j1rb>', '1292274': '<http://rdf.freebase.com/ns/m.0322yj>', '1292275': '<http://rdf.freebase.com/ns/m.02chjf>', '1292286': '<http://rdf.freebase.com/ns/m.05bfg8>', '1292326': '<http://rdf.freebase.com/ns/m.095d6h>', '1292328': '<http://rdf.freebase.com/ns/m.01gcz7>', '1292329': '<http://rdf.freebase.com/ns/m.0kvc2g>', '1292341': '<http://rdf.freebase.com/ns/m.0221zw>', '1292343': '<http://rdf.freebase.com/ns/m.02bg55>', '1292344': '<http://rdf.freebase.com/ns/m.0418wg>', '1292365': '<http://rdf.freebase.com/ns/m.04xp9b>', '1292396': '<http://rdf.freebase.com/ns/m.02pykkq>', '1292434': '<http://rdf.freebase.com/ns/m.09wmzm>', '1292444': '<http://rdf.freebase.com/ns/m.01sby_>', '1292484': '<http://rdf.freebase.com/ns/m.035w2k>', '1292504': '<http://rdf.freebase.com/ns/m.0822j>', '1292523': '<http://rdf.freebase.com/ns/m.0hx4y>', '1292553': '<http://rdf.freebase.com/ns/m.0hwpz>', '1292656': '<http://rdf.freebase.com/ns/m.011ypx>', '1292679': '<http://rdf.freebase.com/ns/m.0198b6>', '1292704': '<http://rdf.freebase.com/ns/m.02p5dlm>', '1292718': '<http://rdf.freebase.com/ns/m.0f_jd3>', '1292728': '<http://rdf.freebase.com/ns/m.07bx6>', '1292895': '<http://rdf.freebase.com/ns/m.07j__3>', '1292973': '<http://rdf.freebase.com/ns/m.01pv91>', '1293124': '<http://rdf.freebase.com/ns/m.01xq8v>', '1293145': '<http://rdf.freebase.com/ns/m.02d413>', '1293172': '<http://rdf.freebase.com/ns/m.0ywrc>', '1293173': '<http://rdf.freebase.com/ns/m.0d6_s>', '1293182': '<http://rdf.freebase.com/ns/m.0m_tj>', '1293203': '<http://rdf.freebase.com/ns/m.0y_pg>', '1293258': '<http://rdf.freebase.com/ns/m.01y9jr>', '1293318': '<http://rdf.freebase.com/ns/m.018wsw>', '1293323': '<http://rdf.freebase.com/ns/m.0kgxf>', '1293350': '<http://rdf.freebase.com/ns/m.01dvbd>', '1293351': '<http://rdf.freebase.com/ns/m.05mpj0>', '1293359': '<http://rdf.freebase.com/ns/m.0381_9>', '1293399': '<http://rdf.freebase.com/ns/m.042y1c>', '1293414': '<http://rdf.freebase.com/ns/m.04d2ht>', '1293475': '<http://rdf.freebase.com/ns/m.02p5dl7>', '1293530': '<http://rdf.freebase.com/ns/m.09q5w2>', '1293531': '<http://rdf.freebase.com/ns/m.0125xq>', '1293544': '<http://rdf.freebase.com/ns/m.07cyl>', '1293555': '<http://rdf.freebase.com/ns/m.014zwb>', '1293702': '<http://rdf.freebase.com/ns/m.0315rp>', '1293708': '<http://rdf.freebase.com/ns/m.02chhq>', '1293764': '<http://rdf.freebase.com/ns/m.0y_9q>', '1293818': '<http://rdf.freebase.com/ns/m.0_b9f>', '1293825': '<http://rdf.freebase.com/ns/m.014l6_>', '1293839': '<http://rdf.freebase.com/ns/m.0k419>', '1293929': '<http://rdf.freebase.com/ns/m.0dr89x>', '1293964': '<http://rdf.freebase.com/ns/m.07_cx8>', '1294007': '<http://rdf.freebase.com/ns/m.09lvld>', '1294136': '<http://rdf.freebase.com/ns/m.02s4l6>', '1294194': '<http://rdf.freebase.com/ns/m.08d4f_>', '1294240': '<http://rdf.freebase.com/ns/m.0y_yw>', '1294262': '<http://rdf.freebase.com/ns/m.025cm9>', '1294408': '<http://rdf.freebase.com/ns/m.0cq7tx>', '1294417': '<http://rdf.freebase.com/ns/m.09fdz5>', '1294561': '<http://rdf.freebase.com/ns/m.0f1z1j>', '1294638': '<http://rdf.freebase.com/ns/m.0jqn5>', '1294639': '<http://rdf.freebase.com/ns/m.01gc7>', '1294766': '<http://rdf.freebase.com/ns/m.05sxr_>', '1294833': '<http://rdf.freebase.com/ns/m.0fgrm>', '1294963': '<http://rdf.freebase.com/ns/m.048r1l>', '1294990': '<http://rdf.freebase.com/ns/m.09w353>', '1295120': '<http://rdf.freebase.com/ns/m.03typy>', '1295124': '<http://rdf.freebase.com/ns/m.0hfzr>', '1295229': '<http://rdf.freebase.com/ns/m.01ln5z>', '1295242': '<http://rdf.freebase.com/ns/m.078z_r>', '1295250': '<http://rdf.freebase.com/ns/m.0d90m>', '1295253': '<http://rdf.freebase.com/ns/m.07pd_j>', '1295280': '<http://rdf.freebase.com/ns/m.031t2d>', '1295384': '<http://rdf.freebase.com/ns/m.01cycq>', '1295399': '<http://rdf.freebase.com/ns/m.07q78>', '1295409': '<http://rdf.freebase.com/ns/m.03dq2m>', '1295428': '<http://rdf.freebase.com/ns/m.01hvjx>', '1295485': '<http://rdf.freebase.com/ns/m.0crsf88>', '1295644': '<http://rdf.freebase.com/ns/m.04q5g>', '1295865': '<http://rdf.freebase.com/ns/m.02__34>', '1295965': '<http://rdf.freebase.com/ns/m.01pgnr>', '1296339': '<http://rdf.freebase.com/ns/m.03dbg_>', '1296629': '<http://rdf.freebase.com/ns/m.025tsbx>', '1296736': '<http://rdf.freebase.com/ns/m.064lsn>', '1296778': '<http://rdf.freebase.com/ns/m.06c753>', '1296992': '<http://rdf.freebase.com/ns/m.055b0h>', '1297052': '<http://rdf.freebase.com/ns/m.09k4d3y>', '1297102': '<http://rdf.freebase.com/ns/m.06y611>', '1297131': '<http://rdf.freebase.com/ns/m.0243cq>', '1297192': '<http://rdf.freebase.com/ns/m.04cprb>', '1297359': '<http://rdf.freebase.com/ns/m.0652f>', '1297447': '<http://rdf.freebase.com/ns/m.01d22s>', '1297544': '<http://rdf.freebase.com/ns/m.032sl_>', '1297570': '<http://rdf.freebase.com/ns/m.05567m>', '1297574': '<http://rdf.freebase.com/ns/m.0mb8c>', '1297630': '<http://rdf.freebase.com/ns/m.07j94>', '1297689': '<http://rdf.freebase.com/ns/m.011wtv>', '1297747': '<http://rdf.freebase.com/ns/m.02mzvv>', '1297756': '<http://rdf.freebase.com/ns/m.0k4d7>', '1297763': '<http://rdf.freebase.com/ns/m.0273q8b>', '1297863': '<http://rdf.freebase.com/ns/m.0285zc2>', '1298070': '<http://rdf.freebase.com/ns/m.01vksx>', '1298443': '<http://rdf.freebase.com/ns/m.02pxxg7>', '1298525': '<http://rdf.freebase.com/ns/m.02b61v>', '1298586': '<http://rdf.freebase.com/ns/m.03t97y>', '1298624': '<http://rdf.freebase.com/ns/m.0_9wr>', '1298644': '<http://rdf.freebase.com/ns/m.07rdtw>', '1298653': '<http://rdf.freebase.com/ns/m.0c3z0>', '1298744': '<http://rdf.freebase.com/ns/m.07j6w>', '1298898': '<http://rdf.freebase.com/ns/m.0g4y5_>', '1298909': '<http://rdf.freebase.com/ns/m.031s5z>', '1299059': '<http://rdf.freebase.com/ns/m.0bbwqld>', '1299062': '<http://rdf.freebase.com/ns/m.0381y6>', '1299080': '<http://rdf.freebase.com/ns/m.0jwvf>', '1299131': '<http://rdf.freebase.com/ns/m.0jsf6>', '1299288': '<http://rdf.freebase.com/ns/m.03dq65>', '1299327': '<http://rdf.freebase.com/ns/m.02p76f9>', '1299603': '<http://rdf.freebase.com/ns/m.02h4658>', '1299661': '<http://rdf.freebase.com/ns/m.03gq3j_>', '1300055': '<http://rdf.freebase.com/ns/m.0333t>', '1300056': '<http://rdf.freebase.com/ns/m.01cqks>', '1300069': '<http://rdf.freebase.com/ns/m.01pgrh>', '1300108': '<http://rdf.freebase.com/ns/m.0bk8r0>', '1300220': '<http://rdf.freebase.com/ns/m.0m313>', '1300275': '<http://rdf.freebase.com/ns/m.02qcr>', '1300299': '<http://rdf.freebase.com/ns/m.080jbf>', '1300300': '<http://rdf.freebase.com/ns/m.01g3gq>', '1300303': '<http://rdf.freebase.com/ns/m.019_tg>', '1300374': '<http://rdf.freebase.com/ns/m.03s9kp>', '1300608': '<http://rdf.freebase.com/ns/m.050j7k>', '1300741': '<http://rdf.freebase.com/ns/m.027yh1z>', '1300868': '<http://rdf.freebase.com/ns/m.067ghz>', '1300945': '<http://rdf.freebase.com/ns/m.06nq0j>', '1301106': '<http://rdf.freebase.com/ns/m.02qjb2f>', '1301345': '<http://rdf.freebase.com/ns/m.08h5ny>', '1301445': '<http://rdf.freebase.com/ns/m.016dj8>', '1301459': '<http://rdf.freebase.com/ns/m.04nnpw>', '1301509': '<http://rdf.freebase.com/ns/m.03q05j>', '1301726': '<http://rdf.freebase.com/ns/m.020y73>', '1301746': '<http://rdf.freebase.com/ns/m.02xs6_>', '1301753': '<http://rdf.freebase.com/ns/m.0m63c>', '1301890': '<http://rdf.freebase.com/ns/m.05v38p>', '1302303': '<http://rdf.freebase.com/ns/m.05ppy>', '1302425': '<http://rdf.freebase.com/ns/m.07s9_c>', '1302476': '<http://rdf.freebase.com/ns/m.063pm7>', '1302642': '<http://rdf.freebase.com/ns/m.0381zv>', '1302827': '<http://rdf.freebase.com/ns/m.011xg5>', '1302987': '<http://rdf.freebase.com/ns/m.0pc62>', '1303010': '<http://rdf.freebase.com/ns/m.03ljzq>', '1303021': '<http://rdf.freebase.com/ns/m.03pnwz>', '1303037': '<http://rdf.freebase.com/ns/m.02rfw0>', '1303139': '<http://rdf.freebase.com/ns/m.03vnxd>', '1303246': '<http://rdf.freebase.com/ns/m.03bwnf>', '1303485': '<http://rdf.freebase.com/ns/m.02q71md>', '1303815': '<http://rdf.freebase.com/ns/m.05nj1z>', '1303907': '<http://rdf.freebase.com/ns/m.0204dm>', '1304022': '<http://rdf.freebase.com/ns/m.04ybq9r>', '1304447': '<http://rdf.freebase.com/ns/m.017z49>', '1304485': '<http://rdf.freebase.com/ns/m.02thgf>', '1304530': '<http://rdf.freebase.com/ns/m.02rdttz>', '1304585': '<http://rdf.freebase.com/ns/m.05vxdh>', '1304624': '<http://rdf.freebase.com/ns/m.0418xy>', '1304641': '<http://rdf.freebase.com/ns/m.011yxg>', '1304826': '<http://rdf.freebase.com/ns/m.04gwgb>', '1304970': '<http://rdf.freebase.com/ns/m.033mlr>', '1305065': '<http://rdf.freebase.com/ns/m.02qk_8>', '1305164': '<http://rdf.freebase.com/ns/m.0crptn>', '1305333': '<http://rdf.freebase.com/ns/m.01gwk3>', '1305466': '<http://rdf.freebase.com/ns/m.03c4x6t>', '1305487': '<http://rdf.freebase.com/ns/m.01flv_>', '1305666': '<http://rdf.freebase.com/ns/m.095zlp>', '1305690': '<http://rdf.freebase.com/ns/m.027m67>', '1305903': '<http://rdf.freebase.com/ns/m.0211pk>', '1306123': '<http://rdf.freebase.com/ns/m.01v5rj>', '1306160': '<http://rdf.freebase.com/ns/m.07f38s>', '1306471': '<http://rdf.freebase.com/ns/m.09jv6s>', '1306505': '<http://rdf.freebase.com/ns/m.05z5cp>', '1306526': '<http://rdf.freebase.com/ns/m.0611rr>', '1306612': '<http://rdf.freebase.com/ns/m.012s1d>', '1306666': '<http://rdf.freebase.com/ns/m.02b0w4>', '1306730': '<http://rdf.freebase.com/ns/m.03gn8d>', '1306808': '<http://rdf.freebase.com/ns/m.06gkgy>', '1306809': '<http://rdf.freebase.com/ns/m.0401sg>', '1307023': '<http://rdf.freebase.com/ns/m.07yc_w>', '1307106': '<http://rdf.freebase.com/ns/m.0432_5>', '1307323': '<http://rdf.freebase.com/ns/m.04rxv1>', '1307394': '<http://rdf.freebase.com/ns/m.04j2hj2>', '1307527': '<http://rdf.freebase.com/ns/m.02vzxsf>', '1307542': '<http://rdf.freebase.com/ns/m.0bys_y>', '1307694': '<http://rdf.freebase.com/ns/m.031ldd>', '1307696': '<http://rdf.freebase.com/ns/m.018pgb>', '1307702': '<http://rdf.freebase.com/ns/m.08ggfz>', '1307739': '<http://rdf.freebase.com/ns/m.07r1vn>', '1307740': '<http://rdf.freebase.com/ns/m.04zlqn>', '1307906': '<http://rdf.freebase.com/ns/m.04x3vd>', '1307914': '<http://rdf.freebase.com/ns/m.0233bn>', '1308076': '<http://rdf.freebase.com/ns/m.024xxj>', '1308111': '<http://rdf.freebase.com/ns/m.02710cc>', '1308570': '<http://rdf.freebase.com/ns/m.02wgk1>', '1308575': '<http://rdf.freebase.com/ns/m.07cn20>', '1308599': '<http://rdf.freebase.com/ns/m.02d478>', '1308620': '<http://rdf.freebase.com/ns/m.03dbjv>', '1308699': '<http://rdf.freebase.com/ns/m.0619zw>', '1308722': '<http://rdf.freebase.com/ns/m.040b5k>', '1308751': '<http://rdf.freebase.com/ns/m.01vw8k>', '1308752': '<http://rdf.freebase.com/ns/m.03cwwl>', '1308753': '<http://rdf.freebase.com/ns/m.036p6v>', '1308755': '<http://rdf.freebase.com/ns/m.02t_h3>', '1308767': '<http://rdf.freebase.com/ns/m.03k8th>', '1308777': '<http://rdf.freebase.com/ns/m.02mt51>', '1308779': '<http://rdf.freebase.com/ns/m.024l2y>', '1308804': '<http://rdf.freebase.com/ns/m.06lkr2>', '1308807': '<http://rdf.freebase.com/ns/m.0b60sq>', '1308817': '<http://rdf.freebase.com/ns/m.05702n>', '1308819': '<http://rdf.freebase.com/ns/m.04c11j>', '1308820': '<http://rdf.freebase.com/ns/m.0br3fh>', '1308831': '<http://rdf.freebase.com/ns/m.04165w>', '1308833': '<http://rdf.freebase.com/ns/m.06_1x0>', '1308843': '<http://rdf.freebase.com/ns/m.02qkwl>', '1308854': '<http://rdf.freebase.com/ns/m.08t9_v>', '1308857': '<http://rdf.freebase.com/ns/m.060xq9>', '1308865': '<http://rdf.freebase.com/ns/m.036s7x>', '1308974': '<http://rdf.freebase.com/ns/m.04cj79>', '1309015': '<http://rdf.freebase.com/ns/m.03q8xj>', '1309016': '<http://rdf.freebase.com/ns/m.04q827>', '1309020': '<http://rdf.freebase.com/ns/m.057yjg>', '1309021': '<http://rdf.freebase.com/ns/m.04hk0w>', '1309027': '<http://rdf.freebase.com/ns/m.04tqtl>', '1309043': '<http://rdf.freebase.com/ns/m.02dr9j>', '1309046': '<http://rdf.freebase.com/ns/m.0645k5>', '1309052': '<http://rdf.freebase.com/ns/m.0639bg>', '1309054': '<http://rdf.freebase.com/ns/m.07g_0c>', '1309059': '<http://rdf.freebase.com/ns/m.0drnwh>', '1309060': '<http://rdf.freebase.com/ns/m.050xxm>', '1309069': '<http://rdf.freebase.com/ns/m.02fqrf>', '1309101': '<http://rdf.freebase.com/ns/m.04pk1f>', '1309103': '<http://rdf.freebase.com/ns/m.057lbk>', '1309136': '<http://rdf.freebase.com/ns/m.02nx2k>', '1309160': '<http://rdf.freebase.com/ns/m.041t2d>', '1309163': '<http://rdf.freebase.com/ns/m.047tsx3>', '1309172': '<http://rdf.freebase.com/ns/m.02f6g5>', '1309184': '<http://rdf.freebase.com/ns/m.060v34>', '1309201': '<http://rdf.freebase.com/ns/m.01sbv9>', '1309203': '<http://rdf.freebase.com/ns/m.0d1n0q>', '1309220': '<http://rdf.freebase.com/ns/m.08j7lh>', '1315316': '<http://rdf.freebase.com/ns/m.04vr_f>', '1315570': '<http://rdf.freebase.com/ns/m.0dl6lqw>', '1315574': '<http://rdf.freebase.com/ns/m.03y0pn>', '1316572': '<http://rdf.freebase.com/ns/m.044rz_>', '1316580': '<http://rdf.freebase.com/ns/m.03813g>', '1322851': '<http://rdf.freebase.com/ns/m.02x4fg0>', '1329562': '<http://rdf.freebase.com/ns/m.0b0vcx>', '1329950': '<http://rdf.freebase.com/ns/m.065dc4>', '1381964': '<http://rdf.freebase.com/ns/m.05lxv3>', '1388175': '<http://rdf.freebase.com/ns/m.0bvp8d7>', '1388216': '<http://rdf.freebase.com/ns/m.05sy_5>', '1401205': '<http://rdf.freebase.com/ns/m.079tvk>', '1401524': '<http://rdf.freebase.com/ns/m.06gb1w>', '1401533': '<http://rdf.freebase.com/ns/m.06fqlk>', '1401535': '<http://rdf.freebase.com/ns/m.05t54s>', '1410556': '<http://rdf.freebase.com/ns/m.043tvp3>', '1417598': '<http://rdf.freebase.com/ns/m.0fq7dv_>', '1418189': '<http://rdf.freebase.com/ns/m.0340hj>', '1418190': '<http://rdf.freebase.com/ns/m.03r0g9>', '1418191': '<http://rdf.freebase.com/ns/m.044g_k>', '1418192': '<http://rdf.freebase.com/ns/m.05nlx4>', '1418605': '<http://rdf.freebase.com/ns/m.0gw4m1>', '1418752': '<http://rdf.freebase.com/ns/m.06lw67>', '1419936': '<http://rdf.freebase.com/ns/m.07twr5>', '1419969': '<http://rdf.freebase.com/ns/m.09_33n>', '1421809': '<http://rdf.freebase.com/ns/m.067k5q>', '1421823': '<http://rdf.freebase.com/ns/m.04n5nfh>', '1422952': '<http://rdf.freebase.com/ns/m.0dggzn>', '1428175': '<http://rdf.freebase.com/ns/m.0c38gj>', '1428602': '<http://rdf.freebase.com/ns/m.0b1mrv>', '1428878': '<http://rdf.freebase.com/ns/m.03q0r1>', '1432146': '<http://rdf.freebase.com/ns/m.0dzlbx>', '1433330': '<http://rdf.freebase.com/ns/m.03hxsv>', '1433360': '<http://rdf.freebase.com/ns/m.0b2_5h>', '1433577': '<http://rdf.freebase.com/ns/m.06gjk9>', '1433673': '<http://rdf.freebase.com/ns/m.03nfnx>', '1436870': '<http://rdf.freebase.com/ns/m.0680y4>', '1437342': '<http://rdf.freebase.com/ns/m.0729rh>', '1440703': '<http://rdf.freebase.com/ns/m.0520qr>', '1441602': '<http://rdf.freebase.com/ns/m.0b3sw8>', '1455979': '<http://rdf.freebase.com/ns/m.026rg27>', '1465829': '<http://rdf.freebase.com/ns/m.0dkv90>', '1466007': '<http://rdf.freebase.com/ns/m.07f_7h>', '1466394': '<http://rdf.freebase.com/ns/m.0b6qmg>', '1467044': '<http://rdf.freebase.com/ns/m.07nt8p>', '1469441': '<http://rdf.freebase.com/ns/m.02z574q>', '1471507': '<http://rdf.freebase.com/ns/m.09xbpt>', '1474180': '<http://rdf.freebase.com/ns/m.0bbmkh>', '1474185': '<http://rdf.freebase.com/ns/m.087pfc>', '1474189': '<http://rdf.freebase.com/ns/m.09rfh9>', '1476023': '<http://rdf.freebase.com/ns/m.07yvsn>', '1478926': '<http://rdf.freebase.com/ns/m.0frb0z>', '1482072': '<http://rdf.freebase.com/ns/m.0cbv4g>', '1482077': '<http://rdf.freebase.com/ns/m.06yykb>', '1482911': '<http://rdf.freebase.com/ns/m.06_sc3>', '1484091': '<http://rdf.freebase.com/ns/m.0c7tp5>', '1498818': '<http://rdf.freebase.com/ns/m.08nvyr>', '1498831': '<http://rdf.freebase.com/ns/m.0830vk>', '1499008': '<http://rdf.freebase.com/ns/m.0df92l>', '1499148': '<http://rdf.freebase.com/ns/m.0clsl7>', '1578507': '<http://rdf.freebase.com/ns/m.061681>', '1585236': '<http://rdf.freebase.com/ns/m.063fh9>', '1607471': '<http://rdf.freebase.com/ns/m.09wnnb>', '1652587': '<http://rdf.freebase.com/ns/m.0bth54>', '1689787': '<http://rdf.freebase.com/ns/m.0cvkv5>', '1759386': '<http://rdf.freebase.com/ns/m.08s6mr>', '1760027': '<http://rdf.freebase.com/ns/m.05650n>', '1760104': '<http://rdf.freebase.com/ns/m.091937>', '1760622': '<http://rdf.freebase.com/ns/m.0h14ln>', '1763132': '<http://rdf.freebase.com/ns/m.0d9c7m>', '1763134': '<http://rdf.freebase.com/ns/m.0db94w>', '1765009': '<http://rdf.freebase.com/ns/m.09dv8h>', '1766086': '<http://rdf.freebase.com/ns/m.02qgf6v>', '1767042': '<http://rdf.freebase.com/ns/m.091z_p>', '1777612': '<http://rdf.freebase.com/ns/m.0h1x5f>', '1781126': '<http://rdf.freebase.com/ns/m.07vn_9>', '1783772': '<http://rdf.freebase.com/ns/m.0bz3jx>', '1787291': '<http://rdf.freebase.com/ns/m.026j0k6>', '1790577': '<http://rdf.freebase.com/ns/m.0h04rk>', '1792928': '<http://rdf.freebase.com/ns/m.08hmch>', '1793491': '<http://rdf.freebase.com/ns/m.03x7hd>', '1793912': '<http://rdf.freebase.com/ns/m.06fcqw>', '1794171': '<http://rdf.freebase.com/ns/m.05zlld0>', '1820145': '<http://rdf.freebase.com/ns/m.0ds11z>', '1820156': '<http://rdf.freebase.com/ns/m.0gfsq9>', '1828115': '<http://rdf.freebase.com/ns/m.0dx8gj>', '1829230': '<http://rdf.freebase.com/ns/m.0b73wst>', '1829654': '<http://rdf.freebase.com/ns/m.047v27>', '1835843': '<http://rdf.freebase.com/ns/m.0bmssv>', '1844413': '<http://rdf.freebase.com/ns/m.06y79v>', '1848925': '<http://rdf.freebase.com/ns/m.02qt_l1>', '1849031': '<http://rdf.freebase.com/ns/m.06rhz7>', '1851906': '<http://rdf.freebase.com/ns/m.050f0s>', '1853176': '<http://rdf.freebase.com/ns/m.07f_t4>', '1855834': '<http://rdf.freebase.com/ns/m.02x0fs9>', '1857099': '<http://rdf.freebase.com/ns/m.0b6tzs>', '1858711': '<http://rdf.freebase.com/ns/m.04hwbq>', '1858802': '<http://rdf.freebase.com/ns/m.0b40y4>', '1859036': '<http://rdf.freebase.com/ns/m.0btf7x>', '1862151': '<http://rdf.freebase.com/ns/m.027fbq2>', '1863955': '<http://rdf.freebase.com/ns/m.0gyy53>', '1865561': '<http://rdf.freebase.com/ns/m.02rcdc2>', '1865703': '<http://rdf.freebase.com/ns/m.0g8zn3>', '1866264': '<http://rdf.freebase.com/ns/m.0g9lm2>', '1866475': '<http://rdf.freebase.com/ns/m.0dnkmq>', '1867335': '<http://rdf.freebase.com/ns/m.09fqgj>', '1867345': '<http://rdf.freebase.com/ns/m.0kv6pf>', '1870044': '<http://rdf.freebase.com/ns/m.0dt8xq>', '1872133': '<http://rdf.freebase.com/ns/m.0h0j3s>', '1885124': '<http://rdf.freebase.com/ns/m.02qp2yn>', '1890157': '<http://rdf.freebase.com/ns/m.0gwzxc>', '1892531': '<http://rdf.freebase.com/ns/m.09hy79>', '1898223': '<http://rdf.freebase.com/ns/m.02q6gfp>', '1907464': '<http://rdf.freebase.com/ns/m.03ybp6p>', '1914652': '<http://rdf.freebase.com/ns/m.0b4k1y>', '1915403': '<http://rdf.freebase.com/ns/m.09ghb70>', '1917074': '<http://rdf.freebase.com/ns/m.02qhqz4>', '1919245': '<http://rdf.freebase.com/ns/m.093gf2>', '1920796': '<http://rdf.freebase.com/ns/m.02qk3fk>', '1920805': '<http://rdf.freebase.com/ns/m.08m1s2>', '1927369': '<http://rdf.freebase.com/ns/m.0f4_2k>', '1937401': '<http://rdf.freebase.com/ns/m.0277htq>', '1937502': '<http://rdf.freebase.com/ns/m.02phtzk>', '1937946': '<http://rdf.freebase.com/ns/m.0g601c>', '1938312': '<http://rdf.freebase.com/ns/m.02vq2qn>', '1939414': '<http://rdf.freebase.com/ns/m.0gj6pd>', '1945330': '<http://rdf.freebase.com/ns/m.02736wx>', '1945336': '<http://rdf.freebase.com/ns/m.0287477>', '1945549': '<http://rdf.freebase.com/ns/m.09zqc0>', '1946882': '<http://rdf.freebase.com/ns/m.08gsvw>', '1947089': '<http://rdf.freebase.com/ns/m.02qd04y>', '1947144': '<http://rdf.freebase.com/ns/m.02qnxd8>', '1947549': '<http://rdf.freebase.com/ns/m.0g6j0h>', '1949312': '<http://rdf.freebase.com/ns/m.02vrgnr>', '1949328': '<http://rdf.freebase.com/ns/m.09bw4_>', '1950148': '<http://rdf.freebase.com/ns/m.0ctb4g>', '1950525': '<http://rdf.freebase.com/ns/m.027qpmb>', '1959877': '<http://rdf.freebase.com/ns/m.02q3fdr>', '1961963': '<http://rdf.freebase.com/ns/m.0kv4wx>', '1962116': '<http://rdf.freebase.com/ns/m.02r8hh_>', '1966464': '<http://rdf.freebase.com/ns/m.03c649y>', '1972698': '<http://rdf.freebase.com/ns/m.0czyxs>', '1978369': '<http://rdf.freebase.com/ns/m.051xtyc>', '1978709': '<http://rdf.freebase.com/ns/m.09k56b7>', '1981242': '<http://rdf.freebase.com/ns/m.02qpt1w>', '1994876': '<http://rdf.freebase.com/ns/m.0b3n61>', '1997679': '<http://rdf.freebase.com/ns/m.028cg00>', '2002683': '<http://rdf.freebase.com/ns/m.02r8_g6>', '2010975': '<http://rdf.freebase.com/ns/m.026qnh6>', '2027938': '<http://rdf.freebase.com/ns/m.03c_9q5>', '2028645': '<http://rdf.freebase.com/ns/m.0404j37>', '2028647': '<http://rdf.freebase.com/ns/m.02qhlwd>', '2028666': '<http://rdf.freebase.com/ns/m.02qr69m>', '2033822': '<http://rdf.freebase.com/ns/m.07kdkfj>', '2037012': '<http://rdf.freebase.com/ns/m.02q5g1z>', '2043546': '<http://rdf.freebase.com/ns/m.0fj4vg>', '2044089': '<http://rdf.freebase.com/ns/m.02pjc1h>', '2044102': '<http://rdf.freebase.com/ns/m.03c96rq>', '2046839': '<http://rdf.freebase.com/ns/m.027ptkp>', '2051007': '<http://rdf.freebase.com/ns/m.02pth35>', '2053515': '<http://rdf.freebase.com/ns/m.027_7dd>', '2054026': '<http://rdf.freebase.com/ns/m.026y3vk>', '2054933': '<http://rdf.freebase.com/ns/m.02704ff>', '2063528': '<http://rdf.freebase.com/ns/m.02qspkp>', '2080133': '<http://rdf.freebase.com/ns/m.02w5xn9>', '2082013': '<http://rdf.freebase.com/ns/m.03bzyn4>', '2124586': '<http://rdf.freebase.com/ns/m.03mgx6z>', '2124724': '<http://rdf.freebase.com/ns/m.02vmkjx>', '2129039': '<http://rdf.freebase.com/ns/m.02rn00y>', '2131459': '<http://rdf.freebase.com/ns/m.027s39y>', '2131654': '<http://rdf.freebase.com/ns/m.05szq8z>', '2132120': '<http://rdf.freebase.com/ns/m.03c5cgj>', '2132495': '<http://rdf.freebase.com/ns/m.02rv_dz>', '2144242': '<http://rdf.freebase.com/ns/m.02vnmg1>', '2146991': '<http://rdf.freebase.com/ns/m.047csmy>', '2147854': '<http://rdf.freebase.com/ns/m.02vyyl8>', '2148257': '<http://rdf.freebase.com/ns/m.05zmj_y>', '2149806': '<http://rdf.freebase.com/ns/m.05c2c9r>', '2153526': '<http://rdf.freebase.com/ns/m.05pbl56>', '2161696': '<http://rdf.freebase.com/ns/m.03bzjpm>', '2209368': '<http://rdf.freebase.com/ns/m.02vztbf>', '2209573': '<http://rdf.freebase.com/ns/m.03hmt9b>', '2213591': '<http://rdf.freebase.com/ns/m.03d79mp>', '2213597': '<http://rdf.freebase.com/ns/m.03cw411>', '2223596': '<http://rdf.freebase.com/ns/m.03qcfvw>', '2229427': '<http://rdf.freebase.com/ns/m.04n043k>', '2257732': '<http://rdf.freebase.com/ns/m.04gv3db>', '2267369': '<http://rdf.freebase.com/ns/m.04gp58p>', '2268359': '<http://rdf.freebase.com/ns/m.03nm_fh>', '2294568': '<http://rdf.freebase.com/ns/m.03hh6dl>', '2297265': '<http://rdf.freebase.com/ns/m.04z_pxk>', '2334814': '<http://rdf.freebase.com/ns/m.02z3r8t>', '2334904': '<http://rdf.freebase.com/ns/m.03cp4cn>', '2336737': '<http://rdf.freebase.com/ns/m.03hkch7>', '2336785': '<http://rdf.freebase.com/ns/m.04jpg2p>', '2353023': '<http://rdf.freebase.com/ns/m.04f52jw>', '2354729': '<http://rdf.freebase.com/ns/m.047v2p4>', '2357162': '<http://rdf.freebase.com/ns/m.027j9wd>', '2357708': '<http://rdf.freebase.com/ns/m.03qdlh6>', '2361823': '<http://rdf.freebase.com/ns/m.047p7fr>', '2365260': '<http://rdf.freebase.com/ns/m.03gt4x8>', '2369549': '<http://rdf.freebase.com/ns/m.0g3zrd>', '2369845': '<http://rdf.freebase.com/ns/m.05t0nvt>', '2969282': '<http://rdf.freebase.com/ns/m.03nsm5x>', '2976123': '<http://rdf.freebase.com/ns/m.03qn46g>', '2996640': '<http://rdf.freebase.com/ns/m.0416y94>', '2998270': '<http://rdf.freebase.com/ns/m.04n52p6>', '3005875': '<http://rdf.freebase.com/ns/m.047vnkj>', '3011051': '<http://rdf.freebase.com/ns/m.06_vszc>', '3011091': '<http://rdf.freebase.com/ns/m.04g2tdb>', '3011093': '<http://rdf.freebase.com/ns/m.0462hhb>', '3011102': '<http://rdf.freebase.com/ns/m.0421v9q>', '3011308': '<http://rdf.freebase.com/ns/m.047trvs>', '3041294': '<http://rdf.freebase.com/ns/m.080dfr7>', '3041806': '<http://rdf.freebase.com/ns/m.043n0v_>', '3053521': '<http://rdf.freebase.com/ns/m.043nc32>', '3066739': '<http://rdf.freebase.com/ns/m.05qbckf>', '3072124': '<http://rdf.freebase.com/ns/m.04z_3pm>', '3073124': '<http://rdf.freebase.com/ns/m.04zxmvq>', '3077791': '<http://rdf.freebase.com/ns/m.06_x996>', '3078609': '<http://rdf.freebase.com/ns/m.07kch1b>', '3102668': '<http://rdf.freebase.com/ns/m.05c1x2g>', '3120852': '<http://rdf.freebase.com/ns/m.05mrf_p>', '3148027': '<http://rdf.freebase.com/ns/m.05pdh86>', '3148748': '<http://rdf.freebase.com/ns/m.05f4_n0>', '3205624': '<http://rdf.freebase.com/ns/m.07s846j>', '3240208': '<http://rdf.freebase.com/ns/m.02rgj5h>', '3279080': '<http://rdf.freebase.com/ns/m.053rxgm>', '3279107': '<http://rdf.freebase.com/ns/m.0803hgc>', '3287562': '<http://rdf.freebase.com/ns/m.06zkfsy>', '3289086': '<http://rdf.freebase.com/ns/m.075wx7_>', '3291930': '<http://rdf.freebase.com/ns/m.088_d4h>', '3313801': '<http://rdf.freebase.com/ns/m.05345qj>', '3319755': '<http://rdf.freebase.com/ns/m.0cmb2j5>', '3412830': '<http://rdf.freebase.com/ns/m.065ym0c>', '3546019': '<http://rdf.freebase.com/ns/m.0bwky98>', '3552028': '<http://rdf.freebase.com/ns/m.05zy3sc>', '3578981': '<http://rdf.freebase.com/ns/m.076v0wk>', '3596502': '<http://rdf.freebase.com/ns/m.0ch4_xx>', '3626416': '<http://rdf.freebase.com/ns/m.05znbh7>', '3718447': '<http://rdf.freebase.com/ns/m.07s5kvr>', '3732780': '<http://rdf.freebase.com/ns/m.0fpvt4j>', '3734112': '<http://rdf.freebase.com/ns/m.09s60jk>', '3737102': '<http://rdf.freebase.com/ns/m.0b74yg0>', '3742360': '<http://rdf.freebase.com/ns/m.0dr_dyb>', '3754946': '<http://rdf.freebase.com/ns/m.0b6dk8n>', '3792799': '<http://rdf.freebase.com/ns/m.0b779vc>', '3792816': '<http://rdf.freebase.com/ns/m.09ghmkm>', '3813779': '<http://rdf.freebase.com/ns/m.0dd9r1z>', '3908423': '<http://rdf.freebase.com/ns/m.076xkdz>', '4023638': '<http://rdf.freebase.com/ns/m.09gq0x5>', '4164444': '<http://rdf.freebase.com/ns/m.09gb_4p>', '4190211': '<http://rdf.freebase.com/ns/m.03z9585>', '4249355': '<http://rdf.freebase.com/ns/m.0dsfd0l>', '4268598': '<http://rdf.freebase.com/ns/m.0dgs73j>'}\n"
     ]
    }
   ],
   "source": [
    "id2entity = {}\n",
    "movie_set = set()\n",
    "\n",
    "with open('douban2fb.txt', \"r\", encoding='utf-8') as f:\n",
    "    for line in f.readlines():\n",
    "        id, entity = line.strip().split()\n",
    "        id2entity[id] = \"<http://rdf.freebase.com/ns/\" + entity + \">\"\n",
    "        movie_set.add(\"<http://rdf.freebase.com/ns/\" + entity + \">\")\n",
    "\n",
    "print(id2entity)"
   ]
  },
  {
   "cell_type": "code",
   "execution_count": 34,
   "metadata": {},
   "outputs": [],
   "source": [
    "with gzip.open('freebase_douban.gz', 'rb') as f:\n",
    "    with open('extract_entity', \"a\", encoding = 'utf-8') as f1: \n",
    "        for line in f:\n",
    "            line = line.strip()\n",
    "            triplet = line.decode().strip().split('\\t')[:3]\n",
    "            if triplet[2] in movie_set or triplet[0] in movie_set:\n",
    "                f1.write(\"\\t\".join(line.decode().strip().split('\\t')[:3]) + \"\\n\")\n"
   ]
  },
  {
   "cell_type": "code",
   "execution_count": 11,
   "metadata": {},
   "outputs": [
    {
     "name": "stdout",
     "output_type": "stream",
     "text": [
      "885\n"
     ]
    }
   ],
   "source": [
    "entity_cnt = {} #记录实体出现了多少次\n",
    "relation_cnt = {} #记录关系出现了多少次\n",
    "relation_set = set() #记录所有超过50条的关系\n",
    "new_entity_set = set()  #表示扩充后的实体集合\n",
    "\n",
    "\n",
    "pre_row = []  #表示按前缀过滤后的行\n",
    "with open('extract_entity', \"r\", encoding='utf-8') as f:\n",
    "    for line in f.readlines():\n",
    "        triplet = line.strip().split('\\t')\n",
    "        if(triplet[0].startswith(\"<http://rdf.freebase.com/ns/\") and triplet[2].startswith(\"<http://rdf.freebase.com/ns/\")):\n",
    "            pre_row.append(line)\n",
    "\n",
    "for line in pre_row:  #统计关系出现次数\n",
    "    triplet = line.strip().split('\\t')\n",
    "    if(triplet[1] not in relation_cnt):\n",
    "        relation_cnt[triplet[1]] = 1\n",
    "    else:\n",
    "        relation_cnt[triplet[1]] += 1\n",
    "\n",
    "relation_row = [] #表示按关系数量过滤后的行\n",
    "for line in pre_row:\n",
    "    triplet = line.strip().split('\\t')\n",
    "    if(relation_cnt[triplet[1]] > 50):\n",
    "        relation_row.append(line)\n",
    "\n",
    "for line in relation_row:   #统计过滤后的行中各实体出现次数\n",
    "    triplet = line.strip().split('\\t')\n",
    "    if(triplet[0] not in entity_cnt):\n",
    "        entity_cnt[triplet[0]] = 1\n",
    "    else:\n",
    "        entity_cnt[triplet[0]] += 1\n",
    "    if(triplet[0] != triplet[2]):\n",
    "        if(triplet[2] not in entity_cnt):\n",
    "            entity_cnt[triplet[2]] = 1\n",
    "        else:\n",
    "            entity_cnt[triplet[2]] += 1\n",
    "\n",
    "for key in entity_cnt:      #过滤实体\n",
    "    if(entity_cnt[key] > 20):\n",
    "        new_entity_set.add(key)\n",
    "'''\n",
    "with open('extract_entity', \"r\", encoding='utf-8') as f:\n",
    "    for line in f.readlines():\n",
    "        triplet = line.strip().split('\\t')\n",
    "        if(triplet[1] not in relation_cnt):\n",
    "            relation_cnt[triplet[1]] = 1\n",
    "        else:\n",
    "            relation_cnt[triplet[1]] += 1\n",
    "            if(relation_cnt[triplet[1]] > 50 and (triplet[1] not in relation_set)):\n",
    "                relation_set.add(triplet[1])\n",
    "        \n",
    "    for line in f.readlines():\n",
    "        triplet = line.strip().split('\\t')\n",
    "        if(triplet[1] in relation_set):\n",
    "            if(not triplet[0].startswith(\"<http://rdf.freebase.com/ns/\") or not triplet[2].startswith(\"<http://rdf.freebase.com/ns/\")):\n",
    "                relation_set.remove(triplet[1])\n",
    "\n",
    "with open('extract_entity', \"r\", encoding='utf-8') as f:\n",
    "    for line in f.readlines():\n",
    "        triplet = line.strip().split('\\t')\n",
    "        if(triplet[1] in relation_set ): #若该关系是保留关系\n",
    "            if(triplet[0] not in entity_cnt):\n",
    "                entity_cnt[triplet[0]] = 1\n",
    "            else:\n",
    "                entity_cnt[triplet[0]] += 1\n",
    "            if(triplet[2] not in entity_cnt):\n",
    "                entity_cnt[triplet[2]] = 1\n",
    "            else:\n",
    "                entity_cnt[triplet[2]] += 1\n",
    "                \n",
    "\n",
    "with open('extract_entity', \"r\", encoding='utf-8') as f:\n",
    "    with open('KG_result', \"a\", encoding='utf-8') as f1:\n",
    "        for line in f.readlines():\n",
    "            triplet = line.strip().split('\\t')\n",
    "            if(triplet[1] in relation_set and entity_cnt[triplet[0]] >= 20 and entity_cnt[triplet[2]] >= 20):\n",
    "                f1.write(\"\\t\".join(line.strip().split('\\t')[:3]) + \"\\n\") #写入图谱\n",
    "                if(triplet[0] not in new_entity_set):\n",
    "                    new_entity_set.add(triplet[0])\n",
    "                if(triplet[2] not in new_entity_set):\n",
    "                    new_entity_set.add(triplet[2])\n",
    "'''\n",
    "print(len(new_entity_set))\n",
    "#print(entity_cnt)\n",
    "#print(\"\\n\")\n",
    "#print(relation_cnt)"
   ]
  },
  {
   "cell_type": "code",
   "execution_count": 57,
   "metadata": {},
   "outputs": [],
   "source": [
    "for element in movie_set:   #检验：原movie实体均在扩充后的集合中\n",
    "    if(element not in new_entity_set):\n",
    "        print(\"error\")\n"
   ]
  },
  {
   "cell_type": "code",
   "execution_count": 59,
   "metadata": {},
   "outputs": [],
   "source": [
    "'''\n",
    "with open('KG_result', \"a\", encoding='utf-8') as f:\n",
    "    for line in relation_row:   \n",
    "        triplet = line.strip().split('\\t')\n",
    "        if(triplet[0] in new_entity_set and triplet[2] in new_entity_set):\n",
    "            f.write(\"\\t\".join(line.strip().split('\\t')[:3]) + \"\\n\") #写入图谱\n",
    "'''"
   ]
  },
  {
   "cell_type": "code",
   "execution_count": 60,
   "metadata": {},
   "outputs": [],
   "source": [
    "with gzip.open('freebase_douban.gz', 'rb') as f:\n",
    "    with gzip.open('extract_entity_new.gz', \"wt\", encoding = 'utf-8') as f1: \n",
    "        for line in f:\n",
    "            line = line.strip()\n",
    "            triplet = line.decode().strip().split('\\t')[:3]\n",
    "            if(triplet[2] in new_entity_set or triplet[0] in new_entity_set):\n",
    "                f1.write(\"\\t\".join(line.decode().strip().split('\\t')[:3]) + \"\\n\")  "
   ]
  },
  {
   "cell_type": "code",
   "execution_count": 4,
   "metadata": {},
   "outputs": [],
   "source": [
    "entity_cnt = {} #记录实体出现了多少次\n",
    "relation_cnt = {} #记录关系出现了多少次\n",
    "relation_set = set() #记录所有超过50条的关系\n",
    "new_entity_set = set()  #表示扩充后的实体集合\n",
    "\n",
    "entity_cnt_first = {} #记录实体出现了多少次(初筛)\n",
    "relation_cnt_first = {} #记录关系出现了多少次（初筛）\n",
    "with gzip.open('extract_entity_new.gz', \"rb\") as f:\n",
    "    for line in f:\n",
    "        line = line.strip()\n",
    "        triplet = line.decode().strip().split('\\t')[:3]\n",
    "        if(triplet[1] not in relation_cnt_first):\n",
    "            relation_cnt_first[triplet[1]] = 1\n",
    "        else:\n",
    "            relation_cnt_first[triplet[1]] += 1\n",
    "        if(triplet[0] not in entity_cnt_first):\n",
    "            entity_cnt_first[triplet[0]] = 1\n",
    "        else:\n",
    "            entity_cnt_first[triplet[0]] += 1\n",
    "        if(triplet[2] not in entity_cnt_first):\n",
    "            entity_cnt_first[triplet[2]] = 1\n",
    "        else:\n",
    "            entity_cnt_first[triplet[2]] += 1\n"
   ]
  },
  {
   "cell_type": "code",
   "execution_count": 5,
   "metadata": {},
   "outputs": [],
   "source": [
    "pre_row = []  #表示按前缀过滤后的行\n",
    "with gzip.open('extract_entity_new.gz', \"rb\") as f:\n",
    "    for line in f:\n",
    "        line = line.strip()\n",
    "        triplet = line.decode().strip().split('\\t')[:3]\n",
    "        if(relation_cnt_first[triplet[1]] >= 50):\n",
    "            if(entity_cnt_first[triplet[0]] <= 20000 and entity_cnt_first[triplet[2]] <= 20000):\n",
    "                if(triplet[0].startswith(\"<http://rdf.freebase.com/ns/\") and triplet[2].startswith(\"<http://rdf.freebase.com/ns/\")):\n",
    "                    pre_row.append(line.decode())"
   ]
  },
  {
   "cell_type": "code",
   "execution_count": 12,
   "metadata": {},
   "outputs": [
    {
     "name": "stdout",
     "output_type": "stream",
     "text": [
      "240073\n"
     ]
    }
   ],
   "source": [
    "print(len(pre_row))"
   ]
  },
  {
   "cell_type": "code",
   "execution_count": 6,
   "metadata": {},
   "outputs": [
    {
     "name": "stdout",
     "output_type": "stream",
     "text": [
      "8892\n"
     ]
    }
   ],
   "source": [
    "for line in pre_row:  #统计关系出现次数\n",
    "    triplet = line.strip().split('\\t')\n",
    "    if(triplet[1] not in relation_cnt):\n",
    "        relation_cnt[triplet[1]] = 1\n",
    "    else:\n",
    "        relation_cnt[triplet[1]] += 1\n",
    "\n",
    "relation_row = [] #表示按关系数量过滤后的行\n",
    "for line in pre_row:\n",
    "    triplet = line.strip().split('\\t')\n",
    "    if(relation_cnt[triplet[1]] > 50):\n",
    "        relation_row.append(line)\n",
    "\n",
    "for line in relation_row:   #统计过滤后的行中各实体出现次数\n",
    "    triplet = line.strip().split('\\t')\n",
    "    if(triplet[0] not in entity_cnt):\n",
    "        entity_cnt[triplet[0]] = 1\n",
    "    else:\n",
    "        entity_cnt[triplet[0]] += 1\n",
    "    if(triplet[2] not in entity_cnt):\n",
    "        entity_cnt[triplet[2]] = 1\n",
    "    else:\n",
    "        entity_cnt[triplet[2]] += 1\n",
    "\n",
    "for key in entity_cnt:      #过滤实体\n",
    "    if(entity_cnt[key] > 15 and entity_cnt[key] < 20000):\n",
    "        new_entity_set.add(key)\n",
    "print(len(new_entity_set))\n",
    "#print(entity_cnt)\n",
    "#print(\"\\n\")\n",
    "#print(relation_cnt)"
   ]
  },
  {
   "cell_type": "code",
   "execution_count": 7,
   "metadata": {},
   "outputs": [],
   "source": [
    "with open('KG_result.txt', \"w\", encoding='utf-8') as f:\n",
    "    for line in relation_row:   \n",
    "        triplet = line.strip().split('\\t')\n",
    "        if(triplet[0] in new_entity_set and triplet[2] in new_entity_set):\n",
    "            f.write(\"\\t\".join(line.strip().split('\\t')[:3]) + \"\\n\") #写入图谱"
   ]
  },
  {
   "cell_type": "code",
   "execution_count": 10,
   "metadata": {},
   "outputs": [],
   "source": [
    "for element in movie_set:   #检验：原movie实体均在扩充后的集合中\n",
    "    if(element not in new_entity_set):\n",
    "        print(\"error\")"
   ]
  }
 ],
 "metadata": {
  "kernelspec": {
   "display_name": "Python 3",
   "language": "python",
   "name": "python3"
  },
  "language_info": {
   "codemirror_mode": {
    "name": "ipython",
    "version": 3
   },
   "file_extension": ".py",
   "mimetype": "text/x-python",
   "name": "python",
   "nbconvert_exporter": "python",
   "pygments_lexer": "ipython3",
   "version": "3.10.0"
  }
 },
 "nbformat": 4,
 "nbformat_minor": 2
}
