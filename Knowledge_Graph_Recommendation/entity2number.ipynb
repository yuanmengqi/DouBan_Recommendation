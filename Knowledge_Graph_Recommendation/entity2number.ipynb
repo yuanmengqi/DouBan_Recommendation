{
 "cells": [
  {
   "cell_type": "code",
   "execution_count": 1,
   "metadata": {},
   "outputs": [],
   "source": [
    "import gzip"
   ]
  },
  {
   "cell_type": "code",
   "execution_count": 2,
   "metadata": {},
   "outputs": [],
   "source": [
    "entity2id = {}  #记录电影实体到id的映射\n",
    "movie_set = set()\n",
    "\n",
    "with open('douban2fb.txt', \"r\", encoding='utf-8') as f:\n",
    "    for line in f.readlines():\n",
    "        id, entity = line.strip().split()\n",
    "        entity2id[\"<http://rdf.freebase.com/ns/\" + entity + \">\"] = id\n",
    "        movie_set.add(\"<http://rdf.freebase.com/ns/\" + entity + \">\")"
   ]
  },
  {
   "cell_type": "code",
   "execution_count": 3,
   "metadata": {},
   "outputs": [],
   "source": [
    "id2num = {}  #记录电影id到数字的映射\n",
    "\n",
    "with open('./第二阶段/movie_id_map.txt', \"r\", encoding='utf-8') as f:\n",
    "    for line in f.readlines():\n",
    "        id, num = line.strip().split()\n",
    "        id2num[id] = num"
   ]
  },
  {
   "cell_type": "code",
   "execution_count": 4,
   "metadata": {},
   "outputs": [],
   "source": [
    "triplet_list =  []\n",
    "with open('KG_result.txt', \"r\", encoding='utf-8') as f:\n",
    "    for line in f.readlines():\n",
    "        triplet_list.append(line)\n"
   ]
  },
  {
   "cell_type": "code",
   "execution_count": 5,
   "metadata": {},
   "outputs": [
    {
     "name": "stdout",
     "output_type": "stream",
     "text": [
      "578\n"
     ]
    }
   ],
   "source": [
    "entity_2num = {} #记录所有实体、关系和数字之间的映射关系\n",
    "cnt = 0 \n",
    "\n",
    "for line in triplet_list:   #将电影实体进行映射\n",
    "    triplet = line.strip().split('\\t')\n",
    "    if(triplet[0] in entity2id):\n",
    "        if(triplet[0] not in entity_2num):\n",
    "            entity_2num[triplet[0]] = id2num[entity2id[triplet[0]]]\n",
    "            cnt += 1\n",
    "    if(triplet[2] in entity2id):\n",
    "        if(triplet[2] not in entity_2num):\n",
    "            entity_2num[triplet[2]] = id2num[entity2id[triplet[2]]]\n",
    "            cnt += 1\n",
    "\n",
    "print(cnt)\n",
    "        "
   ]
  },
  {
   "cell_type": "code",
   "execution_count": 6,
   "metadata": {},
   "outputs": [
    {
     "name": "stdout",
     "output_type": "stream",
     "text": [
      "885\n"
     ]
    }
   ],
   "source": [
    "for line in triplet_list:   #将其他实体进行映射\n",
    "    triplet = line.strip().split('\\t')\n",
    "    if(triplet[0] not in entity_2num):\n",
    "        entity_2num[triplet[0]] = cnt\n",
    "        cnt += 1\n",
    "    if(triplet[2] not in entity_2num):\n",
    "        entity_2num[triplet[2]] = cnt\n",
    "        cnt += 1\n",
    "\n",
    "print(cnt)"
   ]
  },
  {
   "cell_type": "code",
   "execution_count": 7,
   "metadata": {},
   "outputs": [
    {
     "name": "stdout",
     "output_type": "stream",
     "text": [
      "57\n"
     ]
    }
   ],
   "source": [
    "cnt = 0\n",
    "relation2num = {}\n",
    "for line in triplet_list:   #将关系进行映射\n",
    "    triplet = line.strip().split('\\t')\n",
    "    if(triplet[1] not in relation2num):\n",
    "        relation2num[triplet[1]] = cnt\n",
    "        cnt += 1\n",
    "print(cnt)"
   ]
  },
  {
   "cell_type": "markdown",
   "metadata": {},
   "source": [
    "除电影实体外的映射关系具体如何映射？"
   ]
  },
  {
   "cell_type": "code",
   "execution_count": 8,
   "metadata": {},
   "outputs": [],
   "source": [
    "with open('./第二阶段/stage2/data/Douban/kg_final.txt', \"w\", encoding='utf-8') as f:\n",
    "    for line in triplet_list:\n",
    "        triplet = line.strip().split('\\t')\n",
    "        head = entity_2num[triplet[0]]\n",
    "        relation = relation2num[triplet[1]]\n",
    "        tail = entity_2num[triplet[2]]\n",
    "        #f.write(\"\\t\".join([str(head), str(relation), str(tail)]) + \"\\n\")\n",
    "        f.write(\" \".join([str(head), str(relation), str(tail)]) + \"\\n\")\n",
    "        \n"
   ]
  }
 ],
 "metadata": {
  "kernelspec": {
   "display_name": "Python 3",
   "language": "python",
   "name": "python3"
  },
  "language_info": {
   "codemirror_mode": {
    "name": "ipython",
    "version": 3
   },
   "file_extension": ".py",
   "mimetype": "text/x-python",
   "name": "python",
   "nbconvert_exporter": "python",
   "pygments_lexer": "ipython3",
   "version": "3.10.0"
  }
 },
 "nbformat": 4,
 "nbformat_minor": 2
}
